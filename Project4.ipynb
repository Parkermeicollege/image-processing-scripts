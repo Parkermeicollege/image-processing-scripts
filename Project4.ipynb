{
  "nbformat": 4,
  "nbformat_minor": 0,
  "metadata": {
    "colab": {
      "provenance": []
    },
    "kernelspec": {
      "name": "python3",
      "display_name": "Python 3"
    },
    "language_info": {
      "name": "python"
    }
  },
  "cells": [
    {
      "cell_type": "code",
      "source": [
        "from google.colab import drive\n",
        "drive.mount('/content/drive')\n",
        "!pip install rawpy"
      ],
      "metadata": {
        "colab": {
          "base_uri": "https://localhost:8080/"
        },
        "id": "GKvOdu309UJM",
        "outputId": "77fc316a-1b60-42b9-e78a-e1a4518fccb3"
      },
      "execution_count": 154,
      "outputs": [
        {
          "output_type": "stream",
          "name": "stdout",
          "text": [
            "Drive already mounted at /content/drive; to attempt to forcibly remount, call drive.mount(\"/content/drive\", force_remount=True).\n",
            "Requirement already satisfied: rawpy in /usr/local/lib/python3.10/dist-packages (0.23.2)\n",
            "Requirement already satisfied: numpy>=1.26.0 in /usr/local/lib/python3.10/dist-packages (from rawpy) (1.26.4)\n"
          ]
        }
      ]
    },
    {
      "cell_type": "code",
      "source": [
        "import os\n",
        "import cv2\n",
        "import numpy as np\n",
        "import rawpy\n",
        "from google.colab.patches import cv2_imshow"
      ],
      "metadata": {
        "id": "OFnsTXEM4RMV"
      },
      "execution_count": 155,
      "outputs": []
    },
    {
      "cell_type": "code",
      "source": [
        "ISO800path = \"/content/drive/Shareddrives/ISAM Project 4/Project 4/ISO800\"\n",
        "ISO1600path = \"/content/drive/Shareddrives/ISAM Project 4/Project 4/ISO1600\""
      ],
      "metadata": {
        "id": "NqXy6jhP-g06"
      },
      "execution_count": 156,
      "outputs": []
    },
    {
      "cell_type": "code",
      "source": [
        "def list_nef_files(folder_path):\n",
        "    \"\"\"\n",
        "    Iterates through a folder and prints the names of all .NEF image files.\n",
        "\n",
        "    Parameters:\n",
        "    folder_path (str): The path to the folder containing the .NEF image files.\n",
        "    \"\"\"\n",
        "    for filename in os.listdir(folder_path):\n",
        "        if filename.endswith(\".NEF\") or filename.endswith(\".nef\"):\n",
        "            print(filename)\n",
        "\n",
        "list_nef_files('/content/drive/Shareddrives/ISAM Project 4/Project 4/ISO800')"
      ],
      "metadata": {
        "colab": {
          "base_uri": "https://localhost:8080/"
        },
        "id": "QLPOQOgO6zSs",
        "outputId": "6ecc00f3-2015-435b-e1cf-f2346dfca6dd"
      },
      "execution_count": 157,
      "outputs": [
        {
          "output_type": "stream",
          "name": "stdout",
          "text": [
            "DSC_0040.NEF\n",
            "DSC_0041.NEF\n",
            "DSC_0042.NEF\n",
            "DSC_0043.NEF\n",
            "DSC_0044.NEF\n",
            "DSC_0045.NEF\n",
            "DSC_0046.NEF\n",
            "DSC_0047.NEF\n"
          ]
        }
      ]
    },
    {
      "cell_type": "code",
      "source": [
        "def std_patches(directory_path):\n",
        "    patches_std = np.array([], dtype=np.int64)\n",
        "    for filename in os.listdir(directory_path):\n",
        "      if filename.endswith(\".NEF\") or filename.endswith(\".nef\"):\n",
        "          file_path = os.path.join(directory_path, filename)\n",
        "          raw = rawpy.imread(file_path)\n",
        "          img = raw.postprocess(use_camera_wb=True)\n",
        "          img = cv2.cvtColor(img, cv2.COLOR_BGR2GRAY)\n",
        "          patch_9 = img[2459:2532, 3188:3258]\n",
        "          deviation = np.std(patch_9)\n",
        "          patches_std = np.append(patches_std, deviation)\n",
        "\n",
        "    return patches_std\n",
        "std_array_9 = std_patches('/content/drive/Shareddrives/ISAM Project 4/Project 4/ISO800')\n",
        "print(std_array_9)"
      ],
      "metadata": {
        "colab": {
          "base_uri": "https://localhost:8080/"
        },
        "id": "gFhk2s-J7LML",
        "outputId": "2fda701e-0324-4141-9677-64b35f703924"
      },
      "execution_count": 158,
      "outputs": [
        {
          "output_type": "stream",
          "name": "stdout",
          "text": [
            "[13.26883886 13.45501609 12.51880106 12.21305959 12.30508042 12.37154405\n",
            " 12.51140257 12.2847518 ]\n"
          ]
        }
      ]
    },
    {
      "cell_type": "code",
      "source": [
        "def std_patches(directory_path):\n",
        "    patches_std = np.array([], dtype=np.int64)\n",
        "    for filename in os.listdir(directory_path):\n",
        "      if filename.endswith(\".NEF\") or filename.endswith(\".nef\"):\n",
        "          file_path = os.path.join(directory_path, filename)\n",
        "          raw = rawpy.imread(file_path)\n",
        "          img = raw.postprocess(use_camera_wb=True)\n",
        "          img = cv2.cvtColor(img, cv2.COLOR_BGR2GRAY)\n",
        "          patch_19 = img[2459:2529, 3297:3351]\n",
        "          deviation = np.std(patch_19)\n",
        "          patches_std = np.append(patches_std, deviation)\n",
        "\n",
        "    return patches_std\n",
        "std_array_19 = std_patches('/content/drive/Shareddrives/ISAM Project 4/Project 4/ISO800')\n",
        "print(std_array_19)"
      ],
      "metadata": {
        "colab": {
          "base_uri": "https://localhost:8080/"
        },
        "id": "2xXlQD0WK3D7",
        "outputId": "3d44316c-4ece-4b84-aa57-474eefcc808d"
      },
      "execution_count": 159,
      "outputs": [
        {
          "output_type": "stream",
          "name": "stdout",
          "text": [
            "[19.85739542 20.02572755 19.1213997  18.65448944 18.77826582 18.65734864\n",
            " 18.79576606 18.51740589]\n"
          ]
        }
      ]
    },
    {
      "cell_type": "code",
      "source": [
        "def std_patches(directory_path):\n",
        "    patches_std = np.array([], dtype=np.int64)\n",
        "    for filename in os.listdir(directory_path):\n",
        "      if filename.endswith(\".NEF\") or filename.endswith(\".nef\"):\n",
        "          file_path = os.path.join(directory_path, filename)\n",
        "          raw = rawpy.imread(file_path)\n",
        "          img = raw.postprocess(use_camera_wb=True)\n",
        "          img = cv2.cvtColor(img, cv2.COLOR_BGR2GRAY)\n",
        "          patch_36 = img[2456:2530, 3372:3442]\n",
        "          deviation = np.std(patch_36)\n",
        "          patches_std = np.append(patches_std, deviation)\n",
        "\n",
        "    return patches_std\n",
        "std_array_36 = std_patches('/content/drive/Shareddrives/ISAM Project 4/Project 4/ISO800')\n",
        "print(std_array_36)"
      ],
      "metadata": {
        "colab": {
          "base_uri": "https://localhost:8080/"
        },
        "id": "Ke5gu_OBL6_5",
        "outputId": "c6ff0cd0-d2a6-4019-8a52-0de3508b25c6"
      },
      "execution_count": 160,
      "outputs": [
        {
          "output_type": "stream",
          "name": "stdout",
          "text": [
            "[48.70901196 49.68803198 46.80627094 45.82082844 46.24987195 46.45828311\n",
            " 46.58246359 46.20506904]\n"
          ]
        }
      ]
    },
    {
      "cell_type": "code",
      "source": [
        "patches_std = np.concatenate((std_array_9, std_array_19, std_array_36))\n",
        "patches_std_size = patches_std.size\n",
        "patches_std_sum = np.sum(patches_std)\n",
        "total_std_patches = patches_std_sum / patches_std_size\n",
        "print(total_std_patches)"
      ],
      "metadata": {
        "colab": {
          "base_uri": "https://localhost:8080/"
        },
        "id": "S_RH5IQpNIPH",
        "outputId": "119c81b5-ee77-444a-a50d-e9d6980a5dfd"
      },
      "execution_count": 161,
      "outputs": [
        {
          "output_type": "stream",
          "name": "stdout",
          "text": [
            "26.244005165729664\n"
          ]
        }
      ]
    },
    {
      "cell_type": "code",
      "source": [
        "def avg_patch_value1(directory_path):\n",
        "    patch_vals = np.array([], dtype=np.int64)\n",
        "    for filename in os.listdir(directory_path):\n",
        "        if filename.endswith(\".NEF\") or filename.endswith(\".nef\"):\n",
        "            file_path = os.path.join(directory_path, filename)\n",
        "            raw = rawpy.imread(file_path)\n",
        "            img = raw.postprocess(use_camera_wb=True)\n",
        "            img = cv2.cvtColor(img, cv2.COLOR_BGR2GRAY)\n",
        "            patch_9 = img[2459:2532, 3188:3258]\n",
        "            avg = np.mean(patch_9)\n",
        "            patch_vals = np.append(patch_vals, avg)\n",
        "    return np.mean(patch_vals)\n",
        "\n",
        "avg_patch_9 = avg_patch_value1('/content/drive/Shareddrives/ISAM Project 4/Project 4/ISO800')\n",
        "print(avg_patch_9)"
      ],
      "metadata": {
        "colab": {
          "base_uri": "https://localhost:8080/"
        },
        "id": "_-xMtZ8OIcN-",
        "outputId": "8a5e27c3-0b3d-4c73-d50a-814cbe2ddb25"
      },
      "execution_count": 162,
      "outputs": [
        {
          "output_type": "stream",
          "name": "stdout",
          "text": [
            "76.22610078277886\n"
          ]
        }
      ]
    },
    {
      "cell_type": "code",
      "source": [
        "def avg_patch_value(directory_path):\n",
        "    patch_vals = np.array([], dtype=np.int64)\n",
        "    for filename in os.listdir(directory_path):\n",
        "        if filename.endswith(\".NEF\") or filename.endswith(\".nef\"):\n",
        "            file_path = os.path.join(directory_path, filename)\n",
        "            raw = rawpy.imread(file_path)\n",
        "            img = raw.postprocess(use_camera_wb=True)\n",
        "            img = cv2.cvtColor(img, cv2.COLOR_BGR2GRAY)\n",
        "            patch_19 = img[2459:2529, 3279:3351]\n",
        "            patch_19.flatten()\n",
        "            avg = np.mean(patch_19)\n",
        "            patch_vals = np.append(patch_vals, avg)\n",
        "    return np.mean(patch_vals)\n",
        "\n",
        "avg_patch_19 = avg_patch_value('/content/drive/Shareddrives/ISAM Project 4/Project 4/ISO800')\n",
        "print(avg_patch_19)"
      ],
      "metadata": {
        "colab": {
          "base_uri": "https://localhost:8080/"
        },
        "id": "9CWsSIWEPIA-",
        "outputId": "bc9df6b3-d05f-4898-fb4e-1ae7505bd314"
      },
      "execution_count": 163,
      "outputs": [
        {
          "output_type": "stream",
          "name": "stdout",
          "text": [
            "106.55595238095239\n"
          ]
        }
      ]
    },
    {
      "cell_type": "code",
      "source": [
        "def avg_patch_value(directory_path):\n",
        "    patch_vals = np.array([], dtype=np.int64)\n",
        "    for filename in os.listdir(directory_path):\n",
        "        if filename.endswith(\".NEF\") or filename.endswith(\".nef\"):\n",
        "            file_path = os.path.join(directory_path, filename)\n",
        "            raw = rawpy.imread(file_path)\n",
        "            img = raw.postprocess(use_camera_wb=True)\n",
        "            img = cv2.cvtColor(img, cv2.COLOR_BGR2GRAY)\n",
        "            patch_36 = img[2456:2530, 3372:3442]\n",
        "            patch_36.flatten()\n",
        "            avg = np.mean(patch_36)\n",
        "            patch_vals = np.append(patch_vals, avg)\n",
        "    return np.mean(patch_vals)\n",
        "\n",
        "avg_patch_36 = avg_patch_value('/content/drive/Shareddrives/ISAM Project 4/Project 4/ISO800')\n",
        "print(avg_patch_36)"
      ],
      "metadata": {
        "colab": {
          "base_uri": "https://localhost:8080/"
        },
        "id": "wKDNyqFdKrfZ",
        "outputId": "427bac4d-969f-476b-8c09-b0eeaf4776c3"
      },
      "execution_count": 164,
      "outputs": [
        {
          "output_type": "stream",
          "name": "stdout",
          "text": [
            "145.60567084942085\n"
          ]
        }
      ]
    },
    {
      "cell_type": "code",
      "source": [
        "def True_SNR_final(std_total, OL_i, OL_j, OL_k):\n",
        "  Ri = .0009\n",
        "  Rj = .00198\n",
        "  Rk = .0362\n",
        "  SNR = (0.198/std_total) * ((((OL_j)-(OL_i))/(2*(Rj-Ri)))+(((OL_k)-(OL_j))/(2*(Rk-Rj))))\n",
        "  return SNR\n",
        "\n",
        "#SNR = True_SNR_final(total_std_patches, avg_patch_9, avg_patch_19, avg_patch_36)\n",
        "#SNR = True_SNR_final(6, 130, 180, 210)\n",
        "print(SNR)\n",
        "\n",
        "# This is the correct one"
      ],
      "metadata": {
        "colab": {
          "base_uri": "https://localhost:8080/"
        },
        "id": "_VWQipllQTkF",
        "outputId": "f8df3b90-173b-4799-92e2-a900f2bb83cd"
      },
      "execution_count": 168,
      "outputs": [
        {
          "output_type": "stream",
          "name": "stdout",
          "text": [
            "110.24266193782104\n"
          ]
        }
      ]
    }
  ]
}